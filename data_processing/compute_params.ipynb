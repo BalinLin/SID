{
 "cells": [
  {
   "cell_type": "code",
   "execution_count": 1,
   "metadata": {
    "scrolled": true
   },
   "outputs": [
    {
     "name": "stdout",
     "output_type": "stream",
     "text": [
      "1330 11-11.png\n"
     ]
    },
    {
     "data": {
      "text/plain": [
       "<Figure size 640x480 with 1 Axes>"
      ]
     },
     "metadata": {},
     "output_type": "display_data"
    },
    {
     "name": "stdout",
     "output_type": "stream",
     "text": [
      "14.309232321595259 [1.19537021 0.27767171] [1.15171877 0.23819064] [1.10994462 0.19815077]\n",
      "14.309232321595259\n"
     ]
    }
   ],
   "source": [
    "import cv2\n",
    "import os\n",
    "from os import listdir\n",
    "from os.path import isfile, join\n",
    "from PIL import Image as Image\n",
    "import numpy as np\n",
    "\n",
    "from scipy.optimize import curve_fit\n",
    "\n",
    "def relit(x, a, b):\n",
    "    return (a * x.astype(np.float)/255 + b)*255\n",
    "\n",
    "\n",
    "\n",
    "from matplotlib import pyplot as plt\n",
    "def plshow(im,title='MINE'):\n",
    "    if len(im.shape)>2:\n",
    "  #      plt.imshow(cv2.cvtColor(im, cv2.COLOR_BGR2RGB))\n",
    "        plt.imshow(im)\n",
    "    else:\n",
    "        plt.imshow(im,cmap='gray')\n",
    "    plt.title(title)\n",
    "    plt.rcParams[\"figure.figsize\"] = (80,12)\n",
    "    plt.show()\n",
    "\n",
    "sd_path = 'dataset/ISTD/train_A'\n",
    "mask_path = 'dataset/ISTD/train_B'\n",
    "sdfree_path = 'dataset/ISTD/train_C_fixed_ours'\n",
    "\n",
    "sd_path = '/home/balin/exper/shadow_removal/Dataset/ISTD_Dataset/train/train_A'\n",
    "mask_path = '/home/balin/exper/shadow_removal/Dataset/ISTD_Dataset/train/train_B'\n",
    "sdfree_path = '/home/balin/exper/shadow_removal/Dataset/ISTD_Dataset/train/train_C'\n",
    "\n",
    "out = 'dataset/ISTD/train_params/'\n",
    "\n",
    "if not os.path.exists(out):\n",
    "    os.makedirs(out)\n",
    "\n",
    "im_list  =  [f for f in listdir(sd_path) if isfile(join(sd_path, f)) and f.endswith('png')]\n",
    "print(len(im_list),im_list[0])\n",
    "kernel = np.ones((5,5),np.uint8)\n",
    "\n",
    "\n",
    "def im_relit(Rpopt,Gpopt,Bpopt,dump):\n",
    "    #some weird bugs with python\n",
    "    sdim = dump.copy()\n",
    "    sdim.setflags(write=1)\n",
    "    sdim = sdim.astype(np.float)\n",
    "    sdim[:,:,0] = (sdim[:,:,0]/255) * Rpopt[0] + Rpopt[1]\n",
    "    sdim[:,:,1] = (sdim[:,:,1]/255) * Gpopt[0] + Gpopt[1]\n",
    "    sdim[:,:,2] = (sdim[:,:,2]/255) * Bpopt[0] + Bpopt[1]\n",
    "    sdim = sdim*255\n",
    "   # print(np.amin(sdim),np.amax(sdim))\n",
    "    return sdim\n",
    "\n",
    "errors= []\n",
    "for im in im_list[1:2]:\n",
    "    sd = np.asarray(Image.open(join(sd_path,im)))\n",
    "    mean_sdim = np.mean(sd,axis=2)\n",
    "    \n",
    "    mask_ori = np.asarray(Image.open(join(mask_path,im)))\n",
    "    mask = cv2.erode(mask_ori ,kernel,iterations = 2)\n",
    "\n",
    "    \n",
    "    sdfree = np.asarray(Image.open(join(sdfree_path,im)))\n",
    "    mean_sdfreeim = np.mean(sdfree,axis=2)\n",
    "    \n",
    "    #pixels for regression funtion\n",
    "    i, j = np.where(np.logical_and(np.logical_and(np.logical_and(mask>=1,mean_sdim>5),mean_sdfreeim<230),np.abs(mean_sdim-mean_sdfreeim)>10))\n",
    "\n",
    "    source = sd*0\n",
    "    source[tuple([i,j])] = sd[tuple([i,j])] \n",
    "    target = sd*0\n",
    "    target[tuple([i,j])]= sdfree[tuple([i,j])]\n",
    "    \n",
    "    R_s = source[:,:,0][tuple([i,j])]\n",
    "    G_s = source[:,:,1][tuple([i,j])]\n",
    "    B_s = source[:,:,2][tuple([i,j])]\n",
    "    \n",
    "    R_t = target[:,:,0][tuple([i,j])]\n",
    "    G_t = target[:,:,1][tuple([i,j])]\n",
    "    B_t = target[:,:,2][tuple([i,j])]\n",
    "    \n",
    "    c_bounds = [[1,-0.1],[10,0.5]]\n",
    "\n",
    "    \n",
    "    Rpopt, pcov = curve_fit(relit, R_s, R_t,bounds=c_bounds)\n",
    "    Gpopt, pcov = curve_fit(relit, G_s, G_t,bounds=c_bounds)\n",
    "    Bpopt, pcov = curve_fit(relit, B_s, B_t,bounds=c_bounds)\n",
    "    \n",
    "    \n",
    "    relitim = im_relit(Rpopt,Gpopt,Bpopt,sd)\n",
    "    \n",
    "    final = sd.copy()\n",
    "    final[tuple([i,j])] = relitim[tuple([i,j])]\n",
    "    final[final>255] =255\n",
    "    final[final<0] = 0\n",
    "\n",
    "    plshow(final)\n",
    "    \n",
    "    error = np.mean(np.abs(relitim[tuple([i,j])].astype(np.float) - sdfree[tuple([i,j])]).astype(np.float))\n",
    "    print(error,Rpopt,Gpopt,Bpopt)\n",
    "    f = open(join(out,im+'.txt'),\"a\")\n",
    "    f.write(\"%f %f %f %f %f %f\"%(Rpopt[1],Rpopt[0],Gpopt[1],Gpopt[0],Bpopt[1],Bpopt[0]))\n",
    "    f.close()\n",
    "             \n",
    "  #  print(error)\n",
    "    errors.append(error)\n",
    "                    \n",
    "    \n",
    "print(np.mean(errors))\n",
    "#no bound - 8.55\n",
    "#### y_bound ###error\n",
    "#    0.5        8.86\n",
    "#    0.1        15.692271753155671    \n",
    "#    0.25       10.830443545867785\n",
    "#    1          8.86"
   ]
  },
  {
   "cell_type": "code",
   "execution_count": null,
   "metadata": {},
   "outputs": [],
   "source": []
  }
 ],
 "metadata": {
  "kernelspec": {
   "display_name": "Python 3",
   "language": "python",
   "name": "python3"
  },
  "language_info": {
   "codemirror_mode": {
    "name": "ipython",
    "version": 3
   },
   "file_extension": ".py",
   "mimetype": "text/x-python",
   "name": "python",
   "nbconvert_exporter": "python",
   "pygments_lexer": "ipython3",
   "version": "3.6.12"
  }
 },
 "nbformat": 4,
 "nbformat_minor": 4
}